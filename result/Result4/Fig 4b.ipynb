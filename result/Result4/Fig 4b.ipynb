{
 "cells": [
  {
   "cell_type": "code",
   "execution_count": 1,
   "metadata": {},
   "outputs": [],
   "source": [
    "import pandas as pd\n",
    "import numpy as np\n",
    "import matplotlib.pyplot as plt\n",
    "from matplotlib.gridspec import GridSpec"
   ]
  },
  {
   "cell_type": "code",
   "execution_count": 2,
   "metadata": {},
   "outputs": [],
   "source": [
    "import pandas as pd\n",
    "import numpy as np\n",
    "import matplotlib.pyplot as plt\n",
    "from matplotlib.gridspec import GridSpec"
   ]
  },
  {
   "cell_type": "code",
   "execution_count": 3,
   "metadata": {},
   "outputs": [],
   "source": [
    "data = pd.read_csv(\"figure3.csv\")"
   ]
  },
  {
   "cell_type": "code",
   "execution_count": 4,
   "metadata": {},
   "outputs": [
    {
     "data": {
      "text/html": [
       "<div>\n",
       "<style scoped>\n",
       "    .dataframe tbody tr th:only-of-type {\n",
       "        vertical-align: middle;\n",
       "    }\n",
       "\n",
       "    .dataframe tbody tr th {\n",
       "        vertical-align: top;\n",
       "    }\n",
       "\n",
       "    .dataframe thead th {\n",
       "        text-align: right;\n",
       "    }\n",
       "</style>\n",
       "<table border=\"1\" class=\"dataframe\">\n",
       "  <thead>\n",
       "    <tr style=\"text-align: right;\">\n",
       "      <th></th>\n",
       "      <th>Subset ratio</th>\n",
       "      <th>method</th>\n",
       "      <th>Overall score</th>\n",
       "    </tr>\n",
       "  </thead>\n",
       "  <tbody>\n",
       "    <tr>\n",
       "      <th>0</th>\n",
       "      <td>Subset 10%</td>\n",
       "      <td>MINERVA</td>\n",
       "      <td>0.768</td>\n",
       "    </tr>\n",
       "    <tr>\n",
       "      <th>1</th>\n",
       "      <td>Subset 10%</td>\n",
       "      <td>MINERVA (without fusion)</td>\n",
       "      <td>0.727</td>\n",
       "    </tr>\n",
       "    <tr>\n",
       "      <th>2</th>\n",
       "      <td>Subset 10%</td>\n",
       "      <td>Null model</td>\n",
       "      <td>0.718</td>\n",
       "    </tr>\n",
       "    <tr>\n",
       "      <th>3</th>\n",
       "      <td>Subset 20%</td>\n",
       "      <td>MINERVA</td>\n",
       "      <td>0.757</td>\n",
       "    </tr>\n",
       "    <tr>\n",
       "      <th>4</th>\n",
       "      <td>Subset 20%</td>\n",
       "      <td>MINERVA (without fusion)</td>\n",
       "      <td>0.700</td>\n",
       "    </tr>\n",
       "    <tr>\n",
       "      <th>5</th>\n",
       "      <td>Subset 20%</td>\n",
       "      <td>Null model</td>\n",
       "      <td>0.580</td>\n",
       "    </tr>\n",
       "    <tr>\n",
       "      <th>6</th>\n",
       "      <td>Subset 50%</td>\n",
       "      <td>MINERVA</td>\n",
       "      <td>0.716</td>\n",
       "    </tr>\n",
       "    <tr>\n",
       "      <th>7</th>\n",
       "      <td>Subset 50%</td>\n",
       "      <td>MINERVA (without fusion)</td>\n",
       "      <td>0.694</td>\n",
       "    </tr>\n",
       "    <tr>\n",
       "      <th>8</th>\n",
       "      <td>Subset 50%</td>\n",
       "      <td>Null model</td>\n",
       "      <td>0.663</td>\n",
       "    </tr>\n",
       "    <tr>\n",
       "      <th>9</th>\n",
       "      <td>Subset 100%</td>\n",
       "      <td>MINERVA</td>\n",
       "      <td>0.727</td>\n",
       "    </tr>\n",
       "    <tr>\n",
       "      <th>10</th>\n",
       "      <td>Subset 100%</td>\n",
       "      <td>MINERVA (without fusion)</td>\n",
       "      <td>0.670</td>\n",
       "    </tr>\n",
       "    <tr>\n",
       "      <th>11</th>\n",
       "      <td>Subset 100%</td>\n",
       "      <td>Null model</td>\n",
       "      <td>0.607</td>\n",
       "    </tr>\n",
       "  </tbody>\n",
       "</table>\n",
       "</div>"
      ],
      "text/plain": [
       "   Subset ratio                    method  Overall score\n",
       "0    Subset 10%                   MINERVA          0.768\n",
       "1    Subset 10%  MINERVA (without fusion)          0.727\n",
       "2    Subset 10%                Null model          0.718\n",
       "3    Subset 20%                   MINERVA          0.757\n",
       "4    Subset 20%  MINERVA (without fusion)          0.700\n",
       "5    Subset 20%                Null model          0.580\n",
       "6    Subset 50%                   MINERVA          0.716\n",
       "7    Subset 50%  MINERVA (without fusion)          0.694\n",
       "8    Subset 50%                Null model          0.663\n",
       "9   Subset 100%                   MINERVA          0.727\n",
       "10  Subset 100%  MINERVA (without fusion)          0.670\n",
       "11  Subset 100%                Null model          0.607"
      ]
     },
     "execution_count": 4,
     "metadata": {},
     "output_type": "execute_result"
    }
   ],
   "source": [
    "data"
   ]
  },
  {
   "cell_type": "code",
   "execution_count": 5,
   "metadata": {},
   "outputs": [
    {
     "data": {
      "image/png": "[encoded data removed]",
      "text/plain": [
       "<Figure size 500x250 with 1 Axes>"
      ]
     },
     "metadata": {},
     "output_type": "display_data"
    }
   ],
   "source": [
    "labels = ['Subset 10%', 'Subset 20%', 'Subset 50%', 'Subset 100%']\n",
    "\n",
    "# x = np.arange(len(labels))  # the label locations\n",
    "x = np.array([0, 0.6, 1.2, 1.8])\n",
    "width = 0.10  # the width of the bars\n",
    "\n",
    "fig, axes = plt.subplots(1, 1, figsize=(5, 2.5))\n",
    "plt.subplots_adjust(hspace = 0.4)\n",
    "\n",
    "col = \"Overall score\"\n",
    "rects0 = axes.bar(x - width/2, data[(data['method'] == \"MINERVA\")][col], width, label = 'MINERVA', color = '#FA7F6F')\n",
    "rects1 = axes.bar(x + width/2 + 0.02, data[(data['method'] == \"MINERVA (without fusion)\")][col], width, label = 'MINERVA', color = '#F5BE81')\n",
    "rects2 = axes.bar(x + width*3/2 + 0.04, data[(data['method'] == \"Null model\")][col], width, label = 'MIDAS', color = '#999999')\n",
    "\n",
    "axes.bar_label(rects0, padding = 2, fmt='%.3f', fontsize = 8, rotation = 45)\n",
    "axes.bar_label(rects1, padding = 2, fmt='%.3f', fontsize = 8, rotation = 45)\n",
    "axes.bar_label(rects2, padding = 2, fmt='%.3f', fontsize = 8, rotation = 45)\n",
    "\n",
    "\n",
    "axes.tick_params(axis='x', direction = 'in', bottom = False)\n",
    "axes.tick_params(axis='y', direction = 'out', labelsize = 10, length = 3)\n",
    "axes.set_xticks(x + 0.1)\n",
    "axes.set_xticklabels(labels, size = 10)\n",
    "\n",
    "bottom = 0.55\n",
    "top = 0.851\n",
    "step = 0.1\n",
    "axes.set_ylim(bottom = bottom, top = top)\n",
    "axes.set_yticks(np.arange(bottom, top, step = step))\n",
    "axes.set_ylabel(\"Pearson r\", fontsize = 12)\n",
    "\n",
    "for spine in ['top', 'right']:\n",
    "    axes.spines[spine].set_color('none')\n",
    "\n",
    "\n",
    "plt.savefig('figure3_1.svg',dpi = 300, bbox_inches = 'tight')\n",
    "plt.show()\n"
   ]
  }
 ],
 "metadata": {
  "kernelspec": {
   "display_name": "private",
   "language": "python",
   "name": "python3"
  },
  "language_info": {
   "codemirror_mode": {
    "name": "ipython",
    "version": 3
   },
   "file_extension": ".py",
   "mimetype": "text/x-python",
   "name": "python",
   "nbconvert_exporter": "python",
   "pygments_lexer": "ipython3",
   "version": "3.8.8"
  }
 },
 "nbformat": 4,
 "nbformat_minor": 2
}
